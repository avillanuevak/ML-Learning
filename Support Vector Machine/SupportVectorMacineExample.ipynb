{
 "cells": [
  {
   "cell_type": "markdown",
   "id": "10f997c6",
   "metadata": {},
   "source": [
    "# Example of SVMs"
   ]
  },
  {
   "cell_type": "code",
   "execution_count": 1,
   "id": "8f8e8ebe",
   "metadata": {},
   "outputs": [],
   "source": [
    "from matplotlib import pyplot as plt\n",
    "import pandas as pd\n",
    "from sklearn.datasets import load_iris\n",
    "from CustomSupportVectorMachine import CustomSVM"
   ]
  },
  {
   "cell_type": "code",
   "execution_count": 2,
   "id": "219a4c69",
   "metadata": {},
   "outputs": [],
   "source": [
    "%matplotlib inline"
   ]
  },
  {
   "cell_type": "code",
   "execution_count": 3,
   "id": "c9646844",
   "metadata": {},
   "outputs": [
    {
     "data": {
      "text/plain": [
       "['sepal length (cm)',\n",
       " 'sepal width (cm)',\n",
       " 'petal length (cm)',\n",
       " 'petal width (cm)']"
      ]
     },
     "execution_count": 3,
     "metadata": {},
     "output_type": "execute_result"
    }
   ],
   "source": [
    "iris = load_iris()\n",
    "iris.feature_names"
   ]
  },
  {
   "cell_type": "code",
   "execution_count": 4,
   "id": "dd0115cb",
   "metadata": {},
   "outputs": [
    {
     "data": {
      "text/html": [
       "<div>\n",
       "<style scoped>\n",
       "    .dataframe tbody tr th:only-of-type {\n",
       "        vertical-align: middle;\n",
       "    }\n",
       "\n",
       "    .dataframe tbody tr th {\n",
       "        vertical-align: top;\n",
       "    }\n",
       "\n",
       "    .dataframe thead th {\n",
       "        text-align: right;\n",
       "    }\n",
       "</style>\n",
       "<table border=\"1\" class=\"dataframe\">\n",
       "  <thead>\n",
       "    <tr style=\"text-align: right;\">\n",
       "      <th></th>\n",
       "      <th>sepal length (cm)</th>\n",
       "      <th>sepal width (cm)</th>\n",
       "      <th>petal length (cm)</th>\n",
       "      <th>petal width (cm)</th>\n",
       "    </tr>\n",
       "  </thead>\n",
       "  <tbody>\n",
       "    <tr>\n",
       "      <th>0</th>\n",
       "      <td>5.1</td>\n",
       "      <td>3.5</td>\n",
       "      <td>1.4</td>\n",
       "      <td>0.2</td>\n",
       "    </tr>\n",
       "    <tr>\n",
       "      <th>1</th>\n",
       "      <td>4.9</td>\n",
       "      <td>3.0</td>\n",
       "      <td>1.4</td>\n",
       "      <td>0.2</td>\n",
       "    </tr>\n",
       "    <tr>\n",
       "      <th>2</th>\n",
       "      <td>4.7</td>\n",
       "      <td>3.2</td>\n",
       "      <td>1.3</td>\n",
       "      <td>0.2</td>\n",
       "    </tr>\n",
       "    <tr>\n",
       "      <th>3</th>\n",
       "      <td>4.6</td>\n",
       "      <td>3.1</td>\n",
       "      <td>1.5</td>\n",
       "      <td>0.2</td>\n",
       "    </tr>\n",
       "    <tr>\n",
       "      <th>4</th>\n",
       "      <td>5.0</td>\n",
       "      <td>3.6</td>\n",
       "      <td>1.4</td>\n",
       "      <td>0.2</td>\n",
       "    </tr>\n",
       "  </tbody>\n",
       "</table>\n",
       "</div>"
      ],
      "text/plain": [
       "   sepal length (cm)  sepal width (cm)  petal length (cm)  petal width (cm)\n",
       "0                5.1               3.5                1.4               0.2\n",
       "1                4.9               3.0                1.4               0.2\n",
       "2                4.7               3.2                1.3               0.2\n",
       "3                4.6               3.1                1.5               0.2\n",
       "4                5.0               3.6                1.4               0.2"
      ]
     },
     "execution_count": 4,
     "metadata": {},
     "output_type": "execute_result"
    }
   ],
   "source": [
    "df = pd.DataFrame(iris.data, columns=iris.feature_names)\n",
    "df.head()"
   ]
  },
  {
   "cell_type": "code",
   "execution_count": 5,
   "id": "6ff59a7e",
   "metadata": {},
   "outputs": [
    {
     "data": {
      "text/html": [
       "<div>\n",
       "<style scoped>\n",
       "    .dataframe tbody tr th:only-of-type {\n",
       "        vertical-align: middle;\n",
       "    }\n",
       "\n",
       "    .dataframe tbody tr th {\n",
       "        vertical-align: top;\n",
       "    }\n",
       "\n",
       "    .dataframe thead th {\n",
       "        text-align: right;\n",
       "    }\n",
       "</style>\n",
       "<table border=\"1\" class=\"dataframe\">\n",
       "  <thead>\n",
       "    <tr style=\"text-align: right;\">\n",
       "      <th></th>\n",
       "      <th>sepal length (cm)</th>\n",
       "      <th>sepal width (cm)</th>\n",
       "      <th>petal length (cm)</th>\n",
       "      <th>petal width (cm)</th>\n",
       "      <th>target</th>\n",
       "    </tr>\n",
       "  </thead>\n",
       "  <tbody>\n",
       "    <tr>\n",
       "      <th>0</th>\n",
       "      <td>5.1</td>\n",
       "      <td>3.5</td>\n",
       "      <td>1.4</td>\n",
       "      <td>0.2</td>\n",
       "      <td>0</td>\n",
       "    </tr>\n",
       "    <tr>\n",
       "      <th>1</th>\n",
       "      <td>4.9</td>\n",
       "      <td>3.0</td>\n",
       "      <td>1.4</td>\n",
       "      <td>0.2</td>\n",
       "      <td>0</td>\n",
       "    </tr>\n",
       "    <tr>\n",
       "      <th>2</th>\n",
       "      <td>4.7</td>\n",
       "      <td>3.2</td>\n",
       "      <td>1.3</td>\n",
       "      <td>0.2</td>\n",
       "      <td>0</td>\n",
       "    </tr>\n",
       "    <tr>\n",
       "      <th>3</th>\n",
       "      <td>4.6</td>\n",
       "      <td>3.1</td>\n",
       "      <td>1.5</td>\n",
       "      <td>0.2</td>\n",
       "      <td>0</td>\n",
       "    </tr>\n",
       "    <tr>\n",
       "      <th>4</th>\n",
       "      <td>5.0</td>\n",
       "      <td>3.6</td>\n",
       "      <td>1.4</td>\n",
       "      <td>0.2</td>\n",
       "      <td>0</td>\n",
       "    </tr>\n",
       "  </tbody>\n",
       "</table>\n",
       "</div>"
      ],
      "text/plain": [
       "   sepal length (cm)  sepal width (cm)  petal length (cm)  petal width (cm)  \\\n",
       "0                5.1               3.5                1.4               0.2   \n",
       "1                4.9               3.0                1.4               0.2   \n",
       "2                4.7               3.2                1.3               0.2   \n",
       "3                4.6               3.1                1.5               0.2   \n",
       "4                5.0               3.6                1.4               0.2   \n",
       "\n",
       "   target  \n",
       "0       0  \n",
       "1       0  \n",
       "2       0  \n",
       "3       0  \n",
       "4       0  "
      ]
     },
     "execution_count": 5,
     "metadata": {},
     "output_type": "execute_result"
    }
   ],
   "source": [
    "df['target'] = iris.target\n",
    "df.head()"
   ]
  },
  {
   "cell_type": "code",
   "execution_count": 6,
   "id": "77b7acb1",
   "metadata": {},
   "outputs": [
    {
     "data": {
      "text/plain": [
       "array(['setosa', 'versicolor', 'virginica'], dtype='<U10')"
      ]
     },
     "execution_count": 6,
     "metadata": {},
     "output_type": "execute_result"
    }
   ],
   "source": [
    "iris.target_names"
   ]
  },
  {
   "cell_type": "code",
   "execution_count": 7,
   "id": "f8f7f7c9",
   "metadata": {},
   "outputs": [
    {
     "data": {
      "text/html": [
       "<div>\n",
       "<style scoped>\n",
       "    .dataframe tbody tr th:only-of-type {\n",
       "        vertical-align: middle;\n",
       "    }\n",
       "\n",
       "    .dataframe tbody tr th {\n",
       "        vertical-align: top;\n",
       "    }\n",
       "\n",
       "    .dataframe thead th {\n",
       "        text-align: right;\n",
       "    }\n",
       "</style>\n",
       "<table border=\"1\" class=\"dataframe\">\n",
       "  <thead>\n",
       "    <tr style=\"text-align: right;\">\n",
       "      <th></th>\n",
       "      <th>sepal length (cm)</th>\n",
       "      <th>sepal width (cm)</th>\n",
       "      <th>petal length (cm)</th>\n",
       "      <th>petal width (cm)</th>\n",
       "      <th>target</th>\n",
       "      <th>flower_name</th>\n",
       "    </tr>\n",
       "  </thead>\n",
       "  <tbody>\n",
       "    <tr>\n",
       "      <th>0</th>\n",
       "      <td>5.1</td>\n",
       "      <td>3.5</td>\n",
       "      <td>1.4</td>\n",
       "      <td>0.2</td>\n",
       "      <td>0</td>\n",
       "      <td>setosa</td>\n",
       "    </tr>\n",
       "    <tr>\n",
       "      <th>1</th>\n",
       "      <td>4.9</td>\n",
       "      <td>3.0</td>\n",
       "      <td>1.4</td>\n",
       "      <td>0.2</td>\n",
       "      <td>0</td>\n",
       "      <td>setosa</td>\n",
       "    </tr>\n",
       "    <tr>\n",
       "      <th>2</th>\n",
       "      <td>4.7</td>\n",
       "      <td>3.2</td>\n",
       "      <td>1.3</td>\n",
       "      <td>0.2</td>\n",
       "      <td>0</td>\n",
       "      <td>setosa</td>\n",
       "    </tr>\n",
       "    <tr>\n",
       "      <th>3</th>\n",
       "      <td>4.6</td>\n",
       "      <td>3.1</td>\n",
       "      <td>1.5</td>\n",
       "      <td>0.2</td>\n",
       "      <td>0</td>\n",
       "      <td>setosa</td>\n",
       "    </tr>\n",
       "    <tr>\n",
       "      <th>4</th>\n",
       "      <td>5.0</td>\n",
       "      <td>3.6</td>\n",
       "      <td>1.4</td>\n",
       "      <td>0.2</td>\n",
       "      <td>0</td>\n",
       "      <td>setosa</td>\n",
       "    </tr>\n",
       "  </tbody>\n",
       "</table>\n",
       "</div>"
      ],
      "text/plain": [
       "   sepal length (cm)  sepal width (cm)  petal length (cm)  petal width (cm)  \\\n",
       "0                5.1               3.5                1.4               0.2   \n",
       "1                4.9               3.0                1.4               0.2   \n",
       "2                4.7               3.2                1.3               0.2   \n",
       "3                4.6               3.1                1.5               0.2   \n",
       "4                5.0               3.6                1.4               0.2   \n",
       "\n",
       "   target flower_name  \n",
       "0       0      setosa  \n",
       "1       0      setosa  \n",
       "2       0      setosa  \n",
       "3       0      setosa  \n",
       "4       0      setosa  "
      ]
     },
     "execution_count": 7,
     "metadata": {},
     "output_type": "execute_result"
    }
   ],
   "source": [
    "df['flower_name'] = df.target.apply(lambda x: iris.target_names[x])\n",
    "df.head()"
   ]
  },
  {
   "cell_type": "code",
   "execution_count": 8,
   "id": "11e1c805",
   "metadata": {},
   "outputs": [],
   "source": [
    "df0 = df[df.target == 0]\n",
    "df1 = df[df.target == 1]\n",
    "df2 = df[df.target == 2]"
   ]
  },
  {
   "cell_type": "code",
   "execution_count": 9,
   "id": "869ae91d",
   "metadata": {},
   "outputs": [
    {
     "data": {
      "image/png": "[encoded data removed]",
      "text/plain": [
       "<Figure size 640x480 with 1 Axes>"
      ]
     },
     "metadata": {},
     "output_type": "display_data"
    }
   ],
   "source": [
    "# show more advanced plots\n",
    "plt.scatter(df0['sepal length (cm)'], df0['sepal width (cm)'], color='red', label='setosa')\n",
    "plt.scatter(df1['sepal length (cm)'], df1['sepal width (cm)'], color='blue', label='versicolor')\n",
    "plt.scatter(df2['sepal length (cm)'], df2['sepal width (cm)'], color='green', label='virginica')\n",
    "plt.xlabel('Sepal Length (cm)')\n",
    "plt.ylabel('Sepal Width (cm)')\n",
    "plt.title('Iris Dataset - Sepal Length vs Sepal Width')\n",
    "plt.legend()\n",
    "plt.grid(True)\n",
    "plt.show()"
   ]
  },
  {
   "cell_type": "code",
   "execution_count": 10,
   "id": "8ac41b9f",
   "metadata": {},
   "outputs": [
    {
     "name": "stdout",
     "output_type": "stream",
     "text": [
      "Accuracy: 93.33%\n"
     ]
    }
   ],
   "source": [
    "from sklearn.model_selection import train_test_split\n",
    "from CustomSupportVectorMachine import CustomSVM_OVR\n",
    "\n",
    "X = df.drop(['target', 'flower_name'], axis=1).values\n",
    "y = df.target\n",
    "\n",
    "X_train, X_test, y_train, y_test = train_test_split(X, y, test_size=0.2)\n",
    "\n",
    "svm = CustomSVM_OVR(learning_rate=0.001, lambda_param=0.01, n_iterations=1000)\n",
    "svm.fit(X_train, y_train)\n",
    "accuracy = svm.score(X_test, y_test)\n",
    "print(f\"Accuracy: {accuracy * 100:.2f}%\")"
   ]
  },
  {
   "cell_type": "code",
   "execution_count": 11,
   "id": "0d8c593c",
   "metadata": {},
   "outputs": [
    {
     "name": "stdout",
     "output_type": "stream",
     "text": [
      "Sklearn SVM Accuracy: 96.67%\n"
     ]
    }
   ],
   "source": [
    "## compare with sklearn's SVM\n",
    "from sklearn.svm import SVC\n",
    "sklearn_svm = SVC(kernel='linear', C=1.0)\n",
    "sklearn_svm.fit(X_train, y_train)\n",
    "sklearn_accuracy = sklearn_svm.score(X_test, y_test)\n",
    "print(f\"Sklearn SVM Accuracy: {sklearn_accuracy * 100:.2f}%\")"
   ]
  },
  {
   "cell_type": "markdown",
   "id": "ab8e9e92",
   "metadata": {},
   "source": [
    "### Model tuning with regularization and gamma parameters"
   ]
  },
  {
   "cell_type": "markdown",
   "id": "1e88f3b1",
   "metadata": {},
   "source": [
    "In SVMs, `lambda_param` (often denoted as `C` in\n",
    "scikit-learn) controls the regularization, balancing the trade-off between maximizing the margin and minimizing the classification error. A smaller `lambda_param` (larger `C`) means less regularization and a harder\n",
    "margin, potentially leading to overfitting. A larger\n",
    "`lambda_param` (smaller `C`) means more regularization\n",
    "and a softer margin, potentially leading to underfitting.\n",
    "\n",
    "The `gamma` parameter is specific to kernel functions\n",
    "like the Radial Basis Function (RBF) kernel. It defines how far the influence of a single training example reaches, with low values meaning 'far' and high values meaning 'close'. A small `gamma` means a large influence radius, potentially leading to underfitting. A large `gamma` means a small influence radius, potentially leading to overfitting.\n",
    "\n",
    "We will perform a simple grid search to find optimal values for `lambda_param` and `gamma`."
   ]
  },
  {
   "cell_type": "code",
   "execution_count": 13,
   "id": "c2505d9f",
   "metadata": {},
   "outputs": [
    {
     "name": "stdout",
     "output_type": "stream",
     "text": [
      "Starting Grid Search for CustomSVM_OVR...\n",
      "Testing: kernel=linear, lambda_param=0.001\n",
      "Score: 0.9000\n",
      "Testing: kernel=linear, lambda_param=0.01\n",
      "Score: 0.9333\n",
      "Testing: kernel=linear, lambda_param=0.1\n",
      "Score: 0.7333\n",
      "Testing: kernel=linear, lambda_param=1.0\n",
      "Score: 0.7333\n",
      "Testing: kernel=rbf, lambda_param=0.001, gamma=0.01\n",
      "Score: 0.9000\n",
      "Testing: kernel=rbf, lambda_param=0.001, gamma=0.1\n",
      "Score: 0.9000\n",
      "Testing: kernel=rbf, lambda_param=0.001, gamma=1.0\n",
      "Score: 0.9000\n",
      "Testing: kernel=rbf, lambda_param=0.001, gamma=10.0\n",
      "Score: 0.9000\n",
      "Testing: kernel=rbf, lambda_param=0.01, gamma=0.01\n",
      "Score: 0.9333\n",
      "Testing: kernel=rbf, lambda_param=0.01, gamma=0.1\n",
      "Score: 0.9333\n",
      "Testing: kernel=rbf, lambda_param=0.01, gamma=1.0\n",
      "Score: 0.9333\n",
      "Testing: kernel=rbf, lambda_param=0.01, gamma=10.0\n",
      "Score: 0.9333\n",
      "Testing: kernel=rbf, lambda_param=0.1, gamma=0.01\n",
      "Score: 0.7333\n",
      "Testing: kernel=rbf, lambda_param=0.1, gamma=0.1\n",
      "Score: 0.7333\n",
      "Testing: kernel=rbf, lambda_param=0.1, gamma=1.0\n",
      "Score: 0.7333\n",
      "Testing: kernel=rbf, lambda_param=0.1, gamma=10.0\n",
      "Score: 0.7333\n",
      "Testing: kernel=rbf, lambda_param=1.0, gamma=0.01\n",
      "Score: 0.7333\n",
      "Testing: kernel=rbf, lambda_param=1.0, gamma=0.1\n",
      "Score: 0.7333\n",
      "Testing: kernel=rbf, lambda_param=1.0, gamma=1.0\n",
      "Score: 0.7333\n",
      "Testing: kernel=rbf, lambda_param=1.0, gamma=10.0\n",
      "Score: 0.7333\n",
      "\n",
      "Grid Search Complete.\n",
      "Best Score: 93.33%\n",
      "Best Parameters: {'kernel': 'linear', 'lambda_param': 0.01}\n",
      "\n",
      "Training final model with best parameters...\n",
      "Final Model Accuracy: 93.33%\n"
     ]
    }
   ],
   "source": [
    "# Define parameter grids\n",
    "lambda_params = [0.001, 0.01, 0.1, 1.0]\n",
    "gammas = [0.01, 0.1, 1.0, 10.0] # Only relevant for RBF kernel\n",
    "kernels = ['linear', 'rbf']\n",
    "\n",
    "best_score = 0\n",
    "best_params = {}\n",
    "\n",
    "print(\"Starting Grid Search for CustomSVM_OVR...\")\n",
    "\n",
    "for kernel in kernels:\n",
    "    for lambda_param in lambda_params:\n",
    "        if kernel == 'rbf':\n",
    "            for gamma in gammas:\n",
    "                print(f\"Testing: kernel={kernel}, lambda_param={lambda_param}, gamma={gamma}\")\n",
    "                svm = CustomSVM_OVR(learning_rate=0.001,\n",
    "                                    lambda_param=lambda_param, n_iterations=1000,\n",
    "                                    kernel=kernel, gamma=gamma)\n",
    "                svm.fit(X_train, y_train)\n",
    "                score = svm.score(X_test, y_test)\n",
    "                print(f\"Score: {score:.4f}\")\n",
    "\n",
    "                if score > best_score:\n",
    "                    best_score = score\n",
    "                    best_params = {'kernel': kernel,'lambda_param': lambda_param, 'gamma': gamma}\n",
    "        else: # Linear kernel\n",
    "            print(f\"Testing: kernel={kernel}, lambda_param={lambda_param}\")\n",
    "            svm = CustomSVM_OVR(learning_rate=0.001, \n",
    "                                lambda_param=lambda_param, \n",
    "                                n_iterations=1000,\n",
    "                                kernel=kernel)\n",
    "            svm.fit(X_train, y_train)\n",
    "            score = svm.score(X_test, y_test)\n",
    "            print(f\"Score: {score:.4f}\")\n",
    "\n",
    "            if score > best_score:\n",
    "                best_score = score\n",
    "                best_params = {'kernel': kernel,'lambda_param': lambda_param}\n",
    "\n",
    "print(\"\\nGrid Search Complete.\")\n",
    "print(f\"Best Score: {best_score * 100:.2f}%\")\n",
    "print(f\"Best Parameters: {best_params}\")\n",
    "\n",
    "# Train the final model with the best parameters\n",
    "print(\"\\nTraining final model with best parameters...\")\n",
    "final_svm = CustomSVM_OVR(learning_rate=0.001,\n",
    "    n_iterations=1000, **best_params)\n",
    "final_svm.fit(X_train, y_train)\n",
    "final_accuracy = final_svm.score(X_test, y_test)\n",
    "print(f\"Final Model Accuracy: {final_accuracy * 100:.2f}%\")"
   ]
  },
  {
   "cell_type": "markdown",
   "id": "a866d4f1",
   "metadata": {},
   "source": [
    "## Conclusion"
   ]
  },
  {
   "cell_type": "markdown",
   "id": "827f212f",
   "metadata": {},
   "source": [
    "The grid search for the CustomSVM_OVR model reveals that both the\n",
    "  linear and RBF kernels achieved a maximum accuracy of 93.33%.\n",
    "\n",
    "\n",
    "  For the linear kernel, this optimal performance was observed with\n",
    "  a lambda_param of 0.01.\n",
    "\n",
    "\n",
    "  For the RBF kernel, multiple combinations of lambda_param (0.001\n",
    "  and 0.01) and gamma (0.01, 0.1, 1.0, 10.0) also yielded 93.33%\n",
    "  accuracy.\n",
    "\n",
    "\n",
    "  The grid search identified the best parameters as\n",
    "  {'kernel': 'linear', 'lambda_param': 0.01}, leading to a final\n",
    "  model accuracy of 93.33%. This suggests that for this particular\n",
    "  dataset and SVM implementation, a linear decision boundary\n",
    "  is sufficient, and increasing complexity with an RBF kernel did\n",
    "  not provide a significant performance improvement within the\n",
    "  tested parameter ranges."
   ]
  }
 ],
 "metadata": {
  "kernelspec": {
   "display_name": "base",
   "language": "python",
   "name": "python3"
  },
  "language_info": {
   "codemirror_mode": {
    "name": "ipython",
    "version": 3
   },
   "file_extension": ".py",
   "mimetype": "text/x-python",
   "name": "python",
   "nbconvert_exporter": "python",
   "pygments_lexer": "ipython3",
   "version": "3.11.4"
  }
 },
 "nbformat": 4,
 "nbformat_minor": 5
}
