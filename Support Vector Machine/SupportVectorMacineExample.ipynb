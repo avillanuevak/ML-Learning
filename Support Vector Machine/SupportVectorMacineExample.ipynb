{
 "cells": [
  {
   "cell_type": "markdown",
   "id": "10f997c6",
   "metadata": {},
   "source": [
    "# Example of SVMs"
   ]
  },
  {
   "cell_type": "code",
   "execution_count": null,
   "id": "8f8e8ebe",
   "metadata": {},
   "outputs": [],
   "source": []
  }
 ],
 "metadata": {
  "language_info": {
   "name": "python"
  }
 },
 "nbformat": 4,
 "nbformat_minor": 5
}
