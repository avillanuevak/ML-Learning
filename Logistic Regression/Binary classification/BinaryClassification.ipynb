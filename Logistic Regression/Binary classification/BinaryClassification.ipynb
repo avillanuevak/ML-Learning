{
 "cells": [
  {
   "cell_type": "markdown",
   "id": "1d3116b8",
   "metadata": {},
   "source": [
    "## Binary Classification"
   ]
  },
  {
   "cell_type": "markdown",
   "id": "a7867676",
   "metadata": {},
   "source": [
    "## Binary Classification with Logistic Regression\n",
    "\n",
    "Binary classification is a supervised learning task where the goal is to categorize data points into one of two classes. In this notebook, we use logistic regression to predict whether a person bought insurance based on their age.\n",
    "\n",
    "---\n",
    "\n",
    "### What is Logistic Regression?\n",
    "\n",
    "Logistic regression is a statistical model used for binary classification. Unlike linear regression, which predicts continuous values, logistic regression predicts the probability that a given input belongs to a particular class.\n",
    "\n",
    "---\n",
    "\n",
    "### Logistic (Sigmoid) Function\n",
    "\n",
    "The core of logistic regression is the sigmoid function, which maps any real-valued number into the range (0, 1):\n",
    "\n",
    "$$\n",
    "\\sigma(z) = \\frac{1}{1 + e^{-z}}\n",
    "$$\n",
    "$$\n",
    "where ( z = w_0 + w_1 x_1 + w_2 x_2 \\space+ \\space ··· \\space +\\space w_n x_n ).\n",
    "$$\n",
    "<p align=\"center\">\n",
    "    <img src=\"A-Basic-sigmoid-function-with-two-parameters-c1-and-c2-as-commonly-used-for-subitizing-3509717588.png\" alt=\"Sigmoid Function\" width=\"400\"/>\n",
    "</p>\n",
    "\n",
    "---\n",
    "\n",
    "### Model Prediction\n",
    "\n",
    "Given an input \\( X \\), logistic regression computes the probability that the output \\( y \\) is 1 (positive class):\n",
    "$$\n",
    "P(y=1|X) = \\sigma(w^T X + b)\n",
    "$$\n",
    "If this probability is greater than 0.5, we classify the input as class 1; otherwise, class 0.\n",
    "\n",
    "\n",
    "<p align=\"center\">\n",
    "    <img src=\"output.png\" alt=\"Sigmoid Function\" width=\"400\"/>\n",
    "</p>\n",
    "\n",
    "---\n",
    "\n",
    "### Loss Function\n",
    "\n",
    "Logistic regression uses the binary cross-entropy (log loss) as its cost function:\n",
    "$$\n",
    "J(w, b) = -\\frac{1}{m} \\sum_{i=1}^{m} \\left[ y^{(i)} \\log(\\hat{y}^{(i)}) + (1 - y^{(i)}) \\log(1 - \\hat{y}^{(i)}) \\right]\n",
    "$$\n",
    "\n",
    "where $( \\hat{y}^{(i)} )$ is the predicted probability for the \\( i \\)-th sample.\n",
    "\n",
    "\n",
    "\n",
    "<p align=\"center\">\n",
    "    <img src=\"output2.png\" alt=\"Sigmoid Function\" width=\"400\"/>\n",
    "</p>\n",
    "\n",
    "---\n",
    "\n",
    "### Training the Model\n",
    "\n",
    "The model parameters are optimized using gradient descent to minimize the loss function.\n",
    "\n",
    "---\n",
    "\n",
    "### Evaluation\n",
    "\n",
    "After training, we evaluate the model's accuracy on test data. In this notebook, the accuracy of our custom logistic regression model is **1.00** however it can change with its testing data.\n",
    "\n",
    "---\n",
    "\n",
    "<div align=\"center\" style=\"display: flex; justify-content: center; gap: 40px;\">\n",
    "    <table>\n",
    "        <tr>\n",
    "            <td align=\"center\">\n",
    "                <img src=\"output4.png\" alt=\"Custom Logistic Regression Curve\" width=\"350\"/><br>\n",
    "                <b>Custom Logistic Regression</b>\n",
    "            </td>\n",
    "            <td align=\"center\">\n",
    "                <img src=\"output3.png\" alt=\"Sklearn Logistic Regression Curve\" width=\"350\"/><br>\n",
    "                <b>Sklearn Logistic Regression</b>\n",
    "            </td>\n",
    "        </tr>\n",
    "    </table>\n",
    "</div>\n",
    "\n",
    "---\n"
   ]
  },
  {
   "cell_type": "code",
   "execution_count": 125,
   "id": "ac0e61c9",
   "metadata": {},
   "outputs": [],
   "source": [
    "import pandas as pd\n",
    "import matplotlib.pyplot as plt\n",
    "%matplotlib inline"
   ]
  },
  {
   "cell_type": "code",
   "execution_count": 126,
   "id": "2f026c3c",
   "metadata": {},
   "outputs": [
    {
     "data": {
      "text/html": [
       "<div>\n",
       "<style scoped>\n",
       "    .dataframe tbody tr th:only-of-type {\n",
       "        vertical-align: middle;\n",
       "    }\n",
       "\n",
       "    .dataframe tbody tr th {\n",
       "        vertical-align: top;\n",
       "    }\n",
       "\n",
       "    .dataframe thead th {\n",
       "        text-align: right;\n",
       "    }\n",
       "</style>\n",
       "<table border=\"1\" class=\"dataframe\">\n",
       "  <thead>\n",
       "    <tr style=\"text-align: right;\">\n",
       "      <th></th>\n",
       "      <th>age</th>\n",
       "      <th>bought_insurance</th>\n",
       "    </tr>\n",
       "  </thead>\n",
       "  <tbody>\n",
       "    <tr>\n",
       "      <th>0</th>\n",
       "      <td>22</td>\n",
       "      <td>0</td>\n",
       "    </tr>\n",
       "    <tr>\n",
       "      <th>1</th>\n",
       "      <td>25</td>\n",
       "      <td>0</td>\n",
       "    </tr>\n",
       "    <tr>\n",
       "      <th>2</th>\n",
       "      <td>47</td>\n",
       "      <td>1</td>\n",
       "    </tr>\n",
       "    <tr>\n",
       "      <th>3</th>\n",
       "      <td>52</td>\n",
       "      <td>0</td>\n",
       "    </tr>\n",
       "    <tr>\n",
       "      <th>4</th>\n",
       "      <td>46</td>\n",
       "      <td>1</td>\n",
       "    </tr>\n",
       "  </tbody>\n",
       "</table>\n",
       "</div>"
      ],
      "text/plain": [
       "   age  bought_insurance\n",
       "0   22                 0\n",
       "1   25                 0\n",
       "2   47                 1\n",
       "3   52                 0\n",
       "4   46                 1"
      ]
     },
     "execution_count": 126,
     "metadata": {},
     "output_type": "execute_result"
    }
   ],
   "source": [
    "df =pd.read_csv('insurance_data.csv')\n",
    "df.head()"
   ]
  },
  {
   "cell_type": "code",
   "execution_count": 127,
   "id": "3ae123ef",
   "metadata": {},
   "outputs": [
    {
     "data": {
      "text/plain": [
       "<matplotlib.collections.PathCollection at 0x24fc1066550>"
      ]
     },
     "execution_count": 127,
     "metadata": {},
     "output_type": "execute_result"
    },
    {
     "data": {
      "image/png": "[encoded data removed]",
      "text/plain": [
       "<Figure size 640x480 with 1 Axes>"
      ]
     },
     "metadata": {},
     "output_type": "display_data"
    }
   ],
   "source": [
    "plt.scatter(df.age, df.bought_insurance, color='red', marker='+')"
   ]
  },
  {
   "cell_type": "code",
   "execution_count": 128,
   "id": "c055d645",
   "metadata": {},
   "outputs": [
    {
     "data": {
      "text/html": [
       "<div>\n",
       "<style scoped>\n",
       "    .dataframe tbody tr th:only-of-type {\n",
       "        vertical-align: middle;\n",
       "    }\n",
       "\n",
       "    .dataframe tbody tr th {\n",
       "        vertical-align: top;\n",
       "    }\n",
       "\n",
       "    .dataframe thead th {\n",
       "        text-align: right;\n",
       "    }\n",
       "</style>\n",
       "<table border=\"1\" class=\"dataframe\">\n",
       "  <thead>\n",
       "    <tr style=\"text-align: right;\">\n",
       "      <th></th>\n",
       "      <th>age</th>\n",
       "    </tr>\n",
       "  </thead>\n",
       "  <tbody>\n",
       "    <tr>\n",
       "      <th>17</th>\n",
       "      <td>58</td>\n",
       "    </tr>\n",
       "    <tr>\n",
       "      <th>24</th>\n",
       "      <td>50</td>\n",
       "    </tr>\n",
       "    <tr>\n",
       "      <th>19</th>\n",
       "      <td>18</td>\n",
       "    </tr>\n",
       "  </tbody>\n",
       "</table>\n",
       "</div>"
      ],
      "text/plain": [
       "    age\n",
       "17   58\n",
       "24   50\n",
       "19   18"
      ]
     },
     "execution_count": 128,
     "metadata": {},
     "output_type": "execute_result"
    }
   ],
   "source": [
    "from sklearn.model_selection import train_test_split\n",
    "x_train, x_test, y_train, y_test = train_test_split(df[['age']], df.bought_insurance, test_size=0.1)\n",
    "x_test"
   ]
  },
  {
   "cell_type": "code",
   "execution_count": 129,
   "id": "6d249588",
   "metadata": {},
   "outputs": [
    {
     "data": {
      "text/plain": [
       "1.0"
      ]
     },
     "execution_count": 129,
     "metadata": {},
     "output_type": "execute_result"
    }
   ],
   "source": [
    "from sklearn.linear_model import LogisticRegression\n",
    "model = LogisticRegression()\n",
    "model.fit(x_train, y_train)\n",
    "model.predict(x_test)\n",
    "model.score(x_test, y_test)"
   ]
  },
  {
   "cell_type": "code",
   "execution_count": null,
   "id": "97ad0f31",
   "metadata": {},
   "outputs": [],
   "source": [
    "model.predict_proba(x_test)\n",
    "model.predict([[45]])"
   ]
  },
  {
   "cell_type": "markdown",
   "id": "c6f81645",
   "metadata": {},
   "source": [
    "### Building custom logistic regression model"
   ]
  },
  {
   "cell_type": "code",
   "execution_count": 131,
   "id": "98b88c7a",
   "metadata": {},
   "outputs": [
    {
     "data": {
      "text/plain": [
       "<matplotlib.collections.PathCollection at 0x24fc0e1ee10>"
      ]
     },
     "execution_count": 131,
     "metadata": {},
     "output_type": "execute_result"
    },
    {
     "data": {
      "image/png": "[encoded data removed]",
      "text/plain": [
       "<Figure size 640x480 with 1 Axes>"
      ]
     },
     "metadata": {},
     "output_type": "display_data"
    }
   ],
   "source": [
    "plt.scatter(df.age, df.bought_insurance, color='red', marker='+')"
   ]
  },
  {
   "cell_type": "code",
   "execution_count": 132,
   "id": "1a619cc2",
   "metadata": {},
   "outputs": [],
   "source": [
    "from sklearn.model_selection import train_test_split\n",
    "x_train, x_test, y_train, y_test = train_test_split(df[['age']], df.bought_insurance, test_size=0.1)"
   ]
  },
  {
   "cell_type": "code",
   "execution_count": 133,
   "id": "de694023",
   "metadata": {},
   "outputs": [
    {
     "name": "stdout",
     "output_type": "stream",
     "text": [
      "Custom model accuracy: 1.0\n",
      "Sklearn model accuracy: 1.0\n"
     ]
    }
   ],
   "source": [
    "import numpy as np\n",
    "\n",
    "class MyLogisticRegression:\n",
    "    def __init__(self, lr=0.01, n_iter=1000):\n",
    "        self.lr = lr\n",
    "        self.n_iter = n_iter\n",
    "\n",
    "    def sigmoid(self, z):\n",
    "        return 1 / (1 + np.exp(-z))\n",
    "\n",
    "    def fit(self, X, y):\n",
    "        X = np.array(X)\n",
    "        y = np.array(y)\n",
    "        self.theta = np.zeros(X.shape[1] + 1)\n",
    "        X_b = np.c_[np.ones((X.shape[0], 1)), X]\n",
    "        for _ in range(self.n_iter):\n",
    "            linear_model = np.dot(X_b, self.theta)\n",
    "            y_pred = self.sigmoid(linear_model)\n",
    "            gradient = np.dot(X_b.T, (y_pred - y)) / y.size\n",
    "            self.theta -= self.lr * gradient\n",
    "\n",
    "    def predict_proba(self, X):\n",
    "        X = np.array(X)\n",
    "        X_b = np.c_[np.ones((X.shape[0], 1)), X]\n",
    "        return self.sigmoid(np.dot(X_b, self.theta))\n",
    "\n",
    "    def predict(self, X):\n",
    "        return self.predict_proba(X) >= 0.5\n",
    "\n",
    "# Usage:\n",
    "my_model = MyLogisticRegression(lr=0.1, n_iter=1000)\n",
    "my_model.fit(x_train, y_train)\n",
    "preds = my_model.predict(x_test)\n",
    "accuracy = np.mean(preds == y_test)\n",
    "print(\"Custom model accuracy:\", accuracy)\n",
    "\n",
    "from sklearn.linear_model import LogisticRegression\n",
    "model = LogisticRegression()\n",
    "model.fit(x_train, y_train)\n",
    "pred = model.predict(x_test)\n",
    "accuracy = np.mean(pred == y_test)\n",
    "print(\"Sklearn model accuracy:\", accuracy)"
   ]
  },
  {
   "cell_type": "code",
   "execution_count": 134,
   "id": "1cb8bb08",
   "metadata": {},
   "outputs": [
    {
     "data": {
      "image/png": "[encoded data removed]",
      "text/plain": [
       "<Figure size 600x300 with 1 Axes>"
      ]
     },
     "metadata": {},
     "output_type": "display_data"
    },
    {
     "data": {
      "image/png": "[encoded data removed]",
      "text/plain": [
       "<Figure size 600x300 with 1 Axes>"
      ]
     },
     "metadata": {},
     "output_type": "display_data"
    }
   ],
   "source": [
    "import matplotlib.pyplot as plt\n",
    "\n",
    "plt.figure(figsize=(6, 3))\n",
    "plt.plot(x_test.age.values, y_test.values, 'o', label='Actual', color='blue')\n",
    "plt.plot(x_test.age.values, pred, 'x', label='Predicted', color='red')\n",
    "plt.xlabel('Age')\n",
    "plt.ylabel('Bought Insurance')\n",
    "plt.title('Actual vs Predicted (Sklearn Logistic Regression)')\n",
    "plt.legend()\n",
    "plt.show()\n",
    "\n",
    "# custom model\n",
    "plt.figure(figsize=(6, 3))\n",
    "plt.plot(x_test.age.values, y_test.values, 'o', label='Actual', color='blue')\n",
    "plt.plot(x_test.age.values, my_model.predict(x_test), 'x', label='Predicted', color='green')    \n",
    "plt.xlabel('Age')\n",
    "plt.ylabel('Bought Insurance')\n",
    "plt.title('Actual vs Predicted (Custom Logistic Regression)')\n",
    "plt.legend()\n",
    "plt.show()"
   ]
  },
  {
   "cell_type": "code",
   "execution_count": 135,
   "id": "ad9eaf6e",
   "metadata": {},
   "outputs": [],
   "source": [
    "# explorting the custom model with pickle\n",
    "import pickle\n",
    "with open('my_logistic_model.pkl', 'wb') as file:\n",
    "    pickle.dump(my_model, file)"
   ]
  }
 ],
 "metadata": {
  "kernelspec": {
   "display_name": "base",
   "language": "python",
   "name": "python3"
  },
  "language_info": {
   "codemirror_mode": {
    "name": "ipython",
    "version": 3
   },
   "file_extension": ".py",
   "mimetype": "text/x-python",
   "name": "python",
   "nbconvert_exporter": "python",
   "pygments_lexer": "ipython3",
   "version": "3.11.4"
  }
 },
 "nbformat": 4,
 "nbformat_minor": 5
}
